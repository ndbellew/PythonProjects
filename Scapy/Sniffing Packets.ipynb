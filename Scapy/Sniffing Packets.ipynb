{
 "cells": [
  {
   "cell_type": "code",
   "execution_count": 2,
   "metadata": {},
   "outputs": [],
   "source": [
    "from scapy.all import *\n",
    "conf.verb=1\n",
    "conf.color_theme = RastaTheme()"
   ]
  },
  {
   "cell_type": "code",
   "execution_count": 4,
   "metadata": {},
   "outputs": [
    {
     "name": "stdout",
     "output_type": "stream",
     "text": [
      "Help on function sniff in module scapy.sendrecv:\n",
      "\n",
      "sniff(count=0, store=True, offline=None, prn=None, lfilter=None, L2socket=None, timeout=None, opened_socket=None, stop_filter=None, iface=None, *arg, **karg)\n",
      "    Sniff packets and return a list of packets.\n",
      "    \n",
      "    Arguments:\n",
      "    \n",
      "      count: number of packets to capture. 0 means infinity.\n",
      "    \n",
      "      store: whether to store sniffed packets or discard them\n",
      "    \n",
      "      prn: function to apply to each packet. If something is returned, it\n",
      "          is displayed.\n",
      "    \n",
      "          Ex: prn = lambda x: x.summary()\n",
      "    \n",
      "      filter: BPF filter to apply.\n",
      "    \n",
      "      lfilter: Python function applied to each packet to determine if\n",
      "          further action may be done.\n",
      "    \n",
      "          Ex: lfilter = lambda x: x.haslayer(Padding)\n",
      "    \n",
      "      offline: PCAP file (or list of PCAP files) to read packets from,\n",
      "          instead of sniffing them\n",
      "    \n",
      "      timeout: stop sniffing after a given time (default: None).\n",
      "    \n",
      "      L2socket: use the provided L2socket (default: use conf.L2listen).\n",
      "    \n",
      "      opened_socket: provide an object (or a list of objects) ready to use\n",
      "          .recv() on.\n",
      "    \n",
      "      stop_filter: Python function applied to each packet to determine if\n",
      "          we have to stop the capture after this packet.\n",
      "    \n",
      "          Ex: stop_filter = lambda x: x.haslayer(TCP)\n",
      "    \n",
      "      iface: interface or list of interfaces (default: None for sniffing\n",
      "          on all interfaces).\n",
      "    \n",
      "    The iface, offline and opened_socket parameters can be either an\n",
      "    element, a list of elements, or a dict object mapping an element to a\n",
      "    label (see examples below).\n",
      "    \n",
      "    Examples:\n",
      "    \n",
      "      >>> sniff(filter=\"arp\")\n",
      "    \n",
      "      >>> sniff(lfilter=lambda pkt: ARP in pkt)\n",
      "    \n",
      "      >>> sniff(iface=\"eth0\", prn=Packet.summary)\n",
      "    \n",
      "      >>> sniff(iface=[\"eth0\", \"mon0\"],\n",
      "      ...       prn=lambda pkt: \"%s: %s\" % (pkt.sniffed_on,\n",
      "      ...                                   pkt.summary()))\n",
      "    \n",
      "      >>> sniff(iface={\"eth0\": \"Ethernet\", \"mon0\": \"Wifi\"},\n",
      "      ...       prn=lambda pkt: \"%s: %s\" % (pkt.sniffed_on,\n",
      "      ...                                   pkt.summary()))\n",
      "\n"
     ]
    }
   ],
   "source": [
    "help(sniff)"
   ]
  },
  {
   "cell_type": "code",
   "execution_count": null,
   "metadata": {},
   "outputs": [],
   "source": [
    "pkts = sniff(c)"
   ]
  }
 ],
 "metadata": {
  "kernelspec": {
   "display_name": "Python 3",
   "language": "python",
   "name": "python3"
  },
  "language_info": {
   "codemirror_mode": {
    "name": "ipython",
    "version": 3
   },
   "file_extension": ".py",
   "mimetype": "text/x-python",
   "name": "python",
   "nbconvert_exporter": "python",
   "pygments_lexer": "ipython3",
   "version": "3.6.5"
  }
 },
 "nbformat": 4,
 "nbformat_minor": 2
}
